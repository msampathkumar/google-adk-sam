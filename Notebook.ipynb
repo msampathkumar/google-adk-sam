{
 "cells": [
  {
   "cell_type": "code",
   "execution_count": 1,
   "id": "8a659c52-eb8e-43ce-be1e-dabbd9199d62",
   "metadata": {},
   "outputs": [],
   "source": [
    "# Copyright 2025 Google LLC\n",
    "#\n",
    "# Licensed under the Apache License, Version 2.0 (the \"License\");\n",
    "# you may not use this file except in compliance with the License.\n",
    "# You may obtain a copy of the License at\n",
    "#\n",
    "#     https://www.apache.org/licenses/LICENSE-2.0\n",
    "#\n",
    "# Unless required by applicable law or agreed to in writing, software\n",
    "# distributed under the License is distributed on an \"AS IS\" BASIS,\n",
    "# WITHOUT WARRANTIES OR CONDITIONS OF ANY KIND, either express or implied.\n",
    "# See the License for the specific language governing permissions and\n",
    "# limitations under the License."
   ]
  },
  {
   "cell_type": "markdown",
   "id": "a5d3c46e0364dd06",
   "metadata": {},
   "source": [
    "# Building Intelligent Agents: Gemini, Google ADK, and Memory Management - Part 1\n",
    "\n",
    "In this notebook, you'll learn how to transform stateless LLMs into intelligent, stateful agents that can maintain conversation context and working memory. We'll explore Sessions, Events, Session State, and the concept of Context Engineering.\n",
    "\n",
    "**What you'll learn:**\n",
    "- Why LLMs are inherently *stateless* and how to overcome this limitation\n",
    "- Building *stateful* conversational agents with Sessions and Events\n",
    "- Understand the limitations of Session and Memory Context\n",
    "- Managing working memory with Session State\n",
    "- Best practices for managing long conversations\n",
    "\n",
    "**Time:** 20-25 minutes\n",
    "\n",
    "In the next notebook, we'll extend these concepts to cover long-term Memory that persists across sessions.\n",
    "\n",
    "<table align=\"left\">\n",
    "  <td style=\"text-align: center\">\n",
    "    <a href=\"https://colab.research.google.com/github/msampathkumar/google-adk-sam/blob/main/Notebook.ipynb\">\n",
    "      <img width=\"32px\" src=\"https://www.gstatic.com/pantheon/images/bigquery/welcome_page/colab-logo.svg\" alt=\"Google Colaboratory logo\"><br> Open in Colab\n",
    "    </a>\n",
    "  </td>\n",
    "  <td style=\"text-align: center\">\n",
    "    <a href=\"https://github.com/msampathkumar/google-adk-sam/blob/main/Notebook.ipynb\">\n",
    "      <img width=\"32px\" src=\"https://storage.googleapis.com/github-repo/generative-ai/logos/GitHub_Invertocat_Dark.svg\" alt=\"GitHub logo\"><br> View on GitHub\n",
    "    </a>\n",
    "  </td>\n",
    "</table>\n",
    "\n",
    "| Author(s) |\n",
    "| --------- |\n",
    "| [Sampath M](https://github.com/msampathm) |"
   ]
  },
  {
   "cell_type": "markdown",
   "id": "03fc19ef-c750-4602-9199-1a8f52423361",
   "metadata": {},
   "source": [
    "## 1. Setup and Configuration\n",
    "\n",
    "This section covers the initial setup required to run the notebook, including installing libraries and configuring the environment.\n",
    "\n",
    "#### 1.1. Install Dependencies\n",
    "\n",
    "Install necessary Python packages: google-adk\n"
   ]
  },
  {
   "cell_type": "code",
   "execution_count": 2,
   "id": "620bcbb4-d06f-4f31-86fe-a401cc36df17",
   "metadata": {},
   "outputs": [],
   "source": [
    "!pip install --upgrade --quiet pip google-adk==1.16"
   ]
  },
  {
   "cell_type": "markdown",
   "id": "712d5317",
   "metadata": {},
   "source": "#### 1.2. Environment Configuration\n\n- Set up Gemini API Key if using Google AI Studio\n- Set up Google Cloud Project ID and Location if using Vertex AI and handles authentication for Google Colab environments\n- Import required libraries\n- Define the agent_name, app_name, model and user_id\n\n##### **Vertex AI Users**\nIf you are using **Vertex AI**, set the values of **PROJECT_ID** and **LOCATION** below and authenticate"
  },
  {
   "cell_type": "code",
   "execution_count": 3,
   "id": "341f1146",
   "metadata": {
    "lines_to_next_cell": 2
   },
   "outputs": [
    {
     "name": "stdout",
     "output_type": "stream",
     "text": [
      "✅ Environmental variables are set!\n",
      "\n"
     ]
    }
   ],
   "source": [
    "import os\n",
    "\n",
    "PROJECT_ID = str(os.environ.get(\"GOOGLE_CLOUD_PROJECT\"))\n",
    "\n",
    "if not PROJECT_ID:\n",
    "    PROJECT_ID = \"[your-project-name]\"  # @param {type:\"string\"}\n",
    "    \n",
    "\n",
    "LOCATION = \"global\" # @param {type:\"string\"}\n",
    "GOOGLE_GENAI_USE_VERTEXAI = \"1\" # Use Vertex AI API\n",
    "\n",
    "os.environ[\"GOOGLE_CLOUD_PROJECT\"] = PROJECT_ID\n",
    "os.environ[\"GOOGLE_CLOUD_LOCATION\"] = LOCATION\n",
    "os.environ[\"GOOGLE_GENAI_USE_VERTEXAI\"] = GOOGLE_GENAI_USE_VERTEXAI # Use Vertex AI API\n",
    "\n",
    "if PROJECT_ID and LOCATION and GOOGLE_GENAI_USE_VERTEXAI:\n",
    "    print('✅ Environmental variables are set!\\n')\n",
    "else:\n",
    "    print('❌')"
   ]
  },
  {
   "cell_type": "code",
   "execution_count": 4,
   "id": "18c1c0aa",
   "metadata": {},
   "outputs": [],
   "source": [
    "# User Authentication - only required for Google Colab Notebooks\n",
    "import sys\n",
    "\n",
    "if \"google.colab\" in sys.modules:\n",
    "    from google.colab import auth\n",
    "    auth.authenticate_user()"
   ]
  },
  {
   "cell_type": "markdown",
   "id": "b3f08fb2",
   "metadata": {},
   "source": [
    "##### **Google AI Studio Users**\n",
    "If you are using **Google AI Studio**, store the API Key in the secret manager and access it below\n"
   ]
  },
  {
   "cell_type": "code",
   "execution_count": 5,
   "id": "1419756e",
   "metadata": {},
   "outputs": [],
   "source": [
    "# import os\n",
    "# GEMINI_API_KEY = \"<add-your-api-key-here>\"  # @param {type:\"string\"}\n",
    "\n",
    "# if not GEMINI_API_KEY:\n",
    "#     GEMINI_API_KEY = str(os.environ.get(\"GEMINI_API_KEY\"), \"\")\n",
    "\n",
    "# os.environ[\"GEMINI_API_KEY\"] = GEMINI_API_KEY"
   ]
  },
  {
   "cell_type": "markdown",
   "id": "b1d812f1",
   "metadata": {},
   "source": [
    "## 2. Understanding the Challenge: Stateless LLMs\n",
    "\n",
    "At their core, Large Language Models are **inherently stateless**. Think of them as having amnesia after every interaction - their awareness is confined to the information you provide in a single API call. This means an agent without proper context management will react to the current prompt without considering any previous history.\n",
    "\n",
    "**Why does this matter?** Imagine trying to have a meaningful conversation with someone who forgets everything you've said after each sentence. That's the challenge we face with raw LLMs!\n",
    "\n",
    "Let's see this limitation in action. We'll build a simple chat with [Google GenAI SDK](https://github.com/googleapis/python-genai) and demonstrate how it forgets our name between calls.\n",
    "\n"
   ]
  },
  {
   "cell_type": "code",
   "execution_count": 6,
   "id": "c28691be-497d-481b-8ea3-cda991d2db9b",
   "metadata": {},
   "outputs": [],
   "source": [
    "# Google Gen AI SDK Imports\n",
    "from google import genai\n",
    "from google.genai import types"
   ]
  },
  {
   "cell_type": "markdown",
   "id": "a20f1c08",
   "metadata": {},
   "source": [
    "**Expected observation**:  In the example below, we provide username as `Sam` to let Gemini register this information\n"
   ]
  },
  {
   "cell_type": "code",
   "execution_count": 7,
   "id": "2e1ca26d",
   "metadata": {},
   "outputs": [
    {
     "name": "stdout",
     "output_type": "stream",
     "text": [
      "User> Hi, I am Sam. Tell me why the sky is blue?\n",
      "Model> Hi Sam! That's a fantastic question, and one that has a beautiful scientific explanation.\n",
      "\n",
      "The reaso..\n",
      "\n"
     ]
    }
   ],
   "source": [
    "# Initialize the Gemini client - notice we're using the raw SDK without any session management\n",
    "client = genai.Client()\n",
    "model_name = \"gemini-2.5-flash-lite\"\n",
    "\n",
    "# First query: We introduce ourselves as Sam\n",
    "query = \"Hi, I am Sam. Tell me why the sky is blue?\"\n",
    "response = client.models.generate_content(model=model_name, contents=query)\n",
    "\n",
    "# Display the interaction\n",
    "print(f'User> {query}')\n",
    "print(f'Model> {response.text[:100]}..\\n')"
   ]
  },
  {
   "cell_type": "markdown",
   "id": "44bac38f",
   "metadata": {},
   "source": [
    "**Expected observation**: Notice how Gemini responded with \"Hi Sam!\" in the previous interaction? Let's see if it remembers our name in a new API call:\n"
   ]
  },
  {
   "cell_type": "code",
   "execution_count": 8,
   "id": "808436d2",
   "metadata": {},
   "outputs": [
    {
     "name": "stdout",
     "output_type": "stream",
     "text": [
      "User> Hi, what is my name?\n",
      "Model> I am a large language model, trained by Google. I do not have access to your personal information, i...\n",
      "\n"
     ]
    }
   ],
   "source": [
    "# Second query: Ask if the model remembers our name\n",
    "# This is a completely new API call with no context from the previous interaction\n",
    "query = \"Hi, what is my name?\"\n",
    "response = client.models.generate_content(model=model_name, contents=query)\n",
    "\n",
    "# Display the interaction\n",
    "print(f'User> {query}')\n",
    "print(f'Model> {response.text[:100]}...\\n')"
   ]
  },
  {
   "cell_type": "markdown",
   "id": "c3629649-6f18-47d2-a140-eec387aaa276",
   "metadata": {},
   "source": "**Expected observation**: As you can see, the agent has *no record* of our first message. This lack of context awareness forces users to remember every related information (past & present) and provide it as a context for LLMs to respond.\n\n**Solution**: To build intelligent agents that can remember, learn, and personalize interactions, we must **construct the context for every turn** of a conversation. This practice is known as **Context Engineering**."
  },
  {
   "cell_type": "markdown",
   "id": "e820db2d",
   "metadata": {},
   "source": [
    "### Section 2.1: Context Engineering\n",
    "\n",
    "In Google ADK, to manage context we have 2 key components: **Sessions** (conversation history) and **State** (working memory)."
   ]
  },
  {
   "cell_type": "markdown",
   "id": "4d3d61cd",
   "metadata": {},
   "source": "### Section 2.2: Sessions, Events & Runner\n\nNow let's explore how Google ADK implements Context Engineering through Sessions.\n\n#### Key Concepts:\n\n**📦 Session**\n\nIn Google ADK, A session is a foundational element of Context Engineering. A session is a container for conversations. It encapsulates the conversation history in a chronological manner and also records all tool interactions and responses for a single, continuous conversation.\n\nA session is tied to a user and to a specific agent. For instance, a session history for 1 user is not shared with other users. Similarly, a session history for an Agent is not shared with other Agents. This segregation helps to keep information separate and private (limited) thus enabling the Agent's performance over time. \n\n**📝 Session.Events**:\n\nWhile A session is a container for conversations, Events are the building blocks of a conversation.\n\n- **User Input**: A message from the user (text, audio, image, etc.)\n- **Agent Response**: The agent's reply to the user\n- **Tool Call**: The agent's decision to use an external tool or API\n- **Tool Output**: The data returned from a tool call, which the agent uses to continue its reasoning"
  },
  {
   "cell_type": "markdown",
   "id": "9f9a7dea",
   "metadata": {},
   "source": [
    "**🎯 ADK Components:**\n",
    "\n",
    "An Agentic Application can have multiple users and each user may have multiple sessions with the Application.\n",
    "To manage these sessions and events, Google ADK offers a **SessionManager** and **Runner**.\n",
    "\n",
    "1. **`SessionService`**: The storage layer\n",
    "   - Manages creation, storage, and retrieval of session data\n",
    "   - Different implementations for different needs (memory, database, cloud)\n",
    "\n",
    "1. **`Runner`**: The orchestration layer\n",
    "   - Manages the flow of information between user and agent\n",
    "   - Automatically maintains conversation history\n",
    "   - Handles the Context Engineering behind the scenes\n",
    "\n",
    "Think of it like this:\n",
    "- **Session** = A notebook 📓\n",
    "- **Events** = Individual entries in the notebook 📝\n",
    "- **SessionService** = The filing cabinet storing notebooks 🗄️\n",
    "- **Runner** = The assistant managing the conversation 🤖\n",
    "\n",
    "### Section 2.3: Implementing a Session for Conversational History\n",
    "\n",
    "Let's rebuild our agent, but this time, we'll use a `Runner` and a `SessionService` to make it stateful. Watch how the same conversation works when we properly manage context!\n"
   ]
  },
  {
   "cell_type": "code",
   "execution_count": 9,
   "id": "59609b40",
   "metadata": {
    "lines_to_next_cell": 2
   },
   "outputs": [],
   "source": [
    "import warnings\n",
    "import logging\n",
    "from typing import Any, Iterator, Optional, List, Dict\n",
    "import httpx\n",
    "\n",
    "from google.adk.agents import Agent, LlmAgent\n",
    "from google.adk.sessions import InMemorySessionService\n",
    "from google.adk.sessions import DatabaseSessionService\n",
    "from google.adk.runners import Runner\n",
    "from google.genai import types"
   ]
  },
  {
   "cell_type": "markdown",
   "id": "ac5a3596",
   "metadata": {},
   "source": "**Helper function (why?)**\n\nLLMs usually work by converting user input information into tokens and respond in tokens. These tokens are later converted into text, video, images or audio depending on LLM's capability. While all these steps are usually managed by LLM service provider, the LLM's response takes time.\n\n```mermaid\nblock-beta\n    A space B space C space D space E space F\n    \n    A[\"😊 User Input\"] --> B(\"Input2Tokens\")\n    B --> C{\"LLM Processing\"}\n    C --> D(\"Response Tokens\")\n    D --> E{\"Tokens2Output\"}\n    E --> F[\"🌸 Model Response.\"]\n```\n\nTo be efficient, Google ADK uses **async calls** for LLMs and others. Let's create a helper function that will make it easy to run conversations in this notebook:\n\nIn Colab/Jupyter Notebooks use `await run_session(...)` and for running locally use `asyncio.run(run_session(...))`"
  },
  {
   "cell_type": "code",
   "execution_count": 10,
   "id": "7394f0db",
   "metadata": {},
   "outputs": [],
   "source": [
    "async def run_session(runner_instance: Runner, user_queries: list[str] | str = None, session_name: str = \"default\"):\n",
    "    \"\"\"\n",
    "    Helper function that manages a complete conversation session, handling session\n",
    "    creation/retrieval, query processing, and response streaming. It supports\n",
    "    both single queries and multiple queries in sequence.\n",
    "\n",
    "    Args:\n",
    "        runner_instance (Runner): The ADK Runner instance that manages the\n",
    "            conversation flow between user and agent.\n",
    "        user_queries (list[str] | str | None): Either a single query string,\n",
    "            a list of query strings to process sequentially, or None if no\n",
    "            queries are provided.\n",
    "        session_name (str): A unique identifier for the session. Defaults to\n",
    "            \"default\". Used to resume previous conversations or start new ones.\n",
    "\n",
    "    Returns:\n",
    "        None: This function prints the conversation to stdout rather than\n",
    "            returning values.\n",
    "\n",
    "    Example:\n",
    "        >>> await run_session(runner, \"What is the capital of France?\", \"geography-session\")\n",
    "        >>> await run_session(runner, [\"Hello!\", \"What's my name?\"], \"user-intro-session\")\n",
    "\n",
    "    Note:\n",
    "        - If a session with the given name already exists, it will be resumed.\n",
    "    \"\"\"\n",
    "    # Display the session identifier for tracking\n",
    "    print(f\"\\n ### Session: {session_name}\")\n",
    "\n",
    "    # Attempt to create a new session or retrieve an existing one\n",
    "    try:\n",
    "        session = await session_service.create_session(app_name=APP_NAME, user_id=USER_ID, session_id=session_name)\n",
    "    except:\n",
    "        session = await session_service.get_session(app_name=APP_NAME, user_id=USER_ID, session_id=session_name)\n",
    "\n",
    "    # Process queries if provided\n",
    "    if user_queries:\n",
    "        # Convert single query to list for uniform processing\n",
    "        if type(user_queries) == str:\n",
    "            user_queries = [user_queries]\n",
    "\n",
    "        # Process each query in the list sequentially\n",
    "        for query in user_queries:\n",
    "            # Display the user's query\n",
    "            print(f\"\\nUser > {query}\")\n",
    "\n",
    "            # Convert the query string to the ADK Content format\n",
    "            query = types.Content(role=\"user\", parts=[types.Part(text=query)])\n",
    "\n",
    "            # Stream the agent's response asynchronously\n",
    "            async for event in runner_instance.run_async(user_id=USER_ID, session_id=session.id, new_message=query):\n",
    "                # Check if the event contains valid content\n",
    "                if event.content and event.content.parts:\n",
    "                    # Filter out empty or \"None\" responses before printing\n",
    "                    if event.content.parts[0].text != \"None\" and event.content.parts[0].text:\n",
    "                        # Display the model's response with the model name prefix\n",
    "                        print(f\"{MODEL_NAME} > \", event.content.parts[0].text)\n",
    "                        print(\"----\")\n",
    "    else:\n",
    "        print(\"No queries!\")"
   ]
  },
  {
   "cell_type": "markdown",
   "id": "3ea34d09",
   "metadata": {},
   "source": [
    "### Implementing Our First Stateful Agent\n",
    "\n",
    "Now let's put this into practice. ADK offers different types of sessions suitable for different needs. To begin, we'll start with `InMemorySessionService` for simplicity:\n"
   ]
  },
  {
   "cell_type": "code",
   "execution_count": 11,
   "id": "9cdd6e7d-0d0d-43c4-92c5-8d050cd01e0b",
   "metadata": {},
   "outputs": [
    {
     "name": "stdout",
     "output_type": "stream",
     "text": [
      "✅ Defined key variables.\n",
      "\n"
     ]
    }
   ],
   "source": [
    "APP_NAME = \"default\"        # Application\n",
    "USER_ID = \"default\"         # User\n",
    "SESSION = \"default\"         # Session\n",
    "\n",
    "MODEL_NAME = \"gemini-2.5-flash-lite\"\n",
    "\n",
    "print('✅ Defined key variables.\\n')"
   ]
  },
  {
   "cell_type": "code",
   "execution_count": 12,
   "id": "61012bce",
   "metadata": {},
   "outputs": [
    {
     "name": "stdout",
     "output_type": "stream",
     "text": [
      "✅ Stateful agent initialized!\n",
      "   - Application: default\n",
      "   - User: default\n",
      "   - Using: InMemorySessionService\n",
      "\n"
     ]
    }
   ],
   "source": [
    "# Step 1: Create the LLM Agent\n",
    "# This defines WHAT our agent is - its model and purpose\n",
    "root_agent = Agent(\n",
    "    model=\"gemini-2.5-flash-lite\",  # Using the efficient Gemini model\n",
    "    name=\"text_chat_bot\",           # Internal name for logging/debugging\n",
    "    description=\"A text chatbot\",   # Description of the agent's purpose\n",
    ")\n",
    "\n",
    "# Step 2: Set up Session Management\n",
    "# InMemorySessionService stores conversations in RAM (temporary)\n",
    "session_service = InMemorySessionService()\n",
    "\n",
    "# Step 3: Create the Runner\n",
    "# The Runner orchestrates everything - it connects the agent with session management\n",
    "runner = Runner(\n",
    "    agent=root_agent,\n",
    "    app_name=APP_NAME,\n",
    "    session_service=session_service\n",
    ")\n",
    "\n",
    "print(\"✅ Stateful agent initialized!\")\n",
    "print(f\"   - Application: {APP_NAME}\")\n",
    "print(f\"   - User: {USER_ID}\")\n",
    "print(f\"   - Using: {session_service.__class__.__name__}\\n\")"
   ]
  },
  {
   "cell_type": "markdown",
   "id": "30e2afbb",
   "metadata": {},
   "source": [
    "### Testing Our Stateful Agent\n",
    "\n",
    "Now let's see the magic of sessions in action! We'll run the same conversation that failed with the stateless approach:"
   ]
  },
  {
   "cell_type": "code",
   "execution_count": 13,
   "id": "c91e8a39",
   "metadata": {
    "lines_to_next_cell": 2
   },
   "outputs": [
    {
     "name": "stdout",
     "output_type": "stream",
     "text": [
      "\n",
      " ### Session: test-session-01\n",
      "\n",
      "User > Hi, I am Sam! What is the capital of United States?\n",
      "gemini-2.5-flash-lite >  Hi Sam! The capital of the United States is Washington, D.C.\n",
      "----\n",
      "\n",
      "User > Hello! What is my name?\n",
      "gemini-2.5-flash-lite >  Your name is Sam!\n",
      "----\n"
     ]
    }
   ],
   "source": [
    "# Run a conversation with two queries in the same session\n",
    "# Notice: Both queries are part of the SAME session, so context is maintained\n",
    "await run_session(runner, [\n",
    "    \"Hi, I am Sam! What is the capital of United States?\",\n",
    "    \"Hello! What is my name?\"  # This time, the agent should remember!\n",
    "], \"test-session-01\")"
   ]
  },
  {
   "cell_type": "markdown",
   "id": "885d6b5f",
   "metadata": {},
   "source": [
    "🎉 **Success!** The agent remembered your name because both queries were part of the same session. The Runner automatically maintained the conversation history.\n",
    "\n",
    "<img src=\"adk-agent-session.png\" alt=\"drawing\" width=\"600\"/>"
   ]
  },
  {
   "attachments": {},
   "cell_type": "markdown",
   "id": "a1345502-f55d-4111-b176-65c8b896a9a6",
   "metadata": {},
   "source": "All information available in a session is within the LLM Context window. This enables the LLM to learn from past events of the session to understand and build constructive conversations.\n\n\n### Challenge: How to store session data?\n\nSo far we have built meaningful conversations but there's a catch: `InMemorySessionService` is temporary 🗑️. Once the application stops, all conversation history is lost ❌.\n\nLet's verify this limitation by resuming session(`test-session-01`)"
  },
  {
   "cell_type": "code",
   "execution_count": 14,
   "id": "ed8f423b",
   "metadata": {
    "lines_to_next_cell": 2
   },
   "outputs": [
    {
     "name": "stdout",
     "output_type": "stream",
     "text": [
      "\n",
      " ### Session: test-session-01\n",
      "\n",
      "User > What did I ask you about earlier?\n",
      "gemini-2.5-flash-lite >  I do not have memory of past conversations. I am a text chatbot.\n",
      "----\n",
      "\n",
      "User > And remind me, what's my name?\n",
      "gemini-2.5-flash-lite >  I do not know your name. I am a text chatbot and do not have access to personal information.\n",
      "----\n"
     ]
    }
   ],
   "source": [
    "# Continue the same session - the agent should still remember everything\n",
    "await run_session(runner, [\n",
    "    \"What did I ask you about earlier?\",\n",
    "    \"And remind me, what's my name?\"\n",
    "], \"test-session-01\")  # Note, we are using same session name\n",
    "\n",
    "# The agent remembers because we're still in the same session!\n",
    "# But if you restart the kernel, all this history will be gone..."
   ]
  },
  {
   "cell_type": "markdown",
   "id": "020c3e5e",
   "metadata": {},
   "source": [
    "## 3. Persistent Sessions with DatabaseSessionService\n",
    "\n",
    "While `InMemorySessionService` is great for prototyping, real-world applications need conversations to survive restarts, crashes, and deployments. Let's level up to persistent storage!\n",
    "\n",
    "### 3.1. Choosing the Right SessionService\n",
    "\n",
    "ADK provides different SessionService implementations for different needs:\n",
    "\n",
    "| Service | Use Case | Persistence | Best For |\n",
    "|---------|----------|-------------|----------|\n",
    "| **InMemorySessionService** | Development & Testing | ❌ Lost on restart | Quick prototypes |\n",
    "| **DatabaseSessionService** | Self-managed apps | ✅ Survives restarts | Small to medium apps |\n",
    "| **Agent Engine Sessions** | Production on GCP | ✅ Fully managed | Enterprise scale |\n",
    "\n",
    "### 3.2. Implementing Persistent Sessions\n",
    "\n",
    "Let's upgrade to `DatabaseSessionService` using SQLite. This gives us persistence without needing a separate database server:\n"
   ]
  },
  {
   "cell_type": "code",
   "execution_count": 30,
   "id": "ee52161c",
   "metadata": {},
   "outputs": [
    {
     "name": "stdout",
     "output_type": "stream",
     "text": [
      "🗑️  Cleaned up old database files\n"
     ]
    }
   ],
   "source": [
    "# Clean up any existing database to start fresh\n",
    "import os\n",
    "if os.path.exists(\"my_agent_data.db\"):\n",
    "    os.remove(\"my_agent_data.db\")\n",
    "print(\"🗑️  Cleaned up old database files\")"
   ]
  },
  {
   "cell_type": "code",
   "execution_count": 31,
   "id": "c938409c",
   "metadata": {},
   "outputs": [
    {
     "name": "stdout",
     "output_type": "stream",
     "text": [
      "✅ Upgraded to persistent sessions!\n",
      "   - Database: my_agent_data.db\n",
      "   - Sessions will survive restarts!\n"
     ]
    }
   ],
   "source": [
    "from google.adk.sessions import DatabaseSessionService\n",
    "\n",
    "# Step 1: Create the same agent (notice we use LlmAgent this time)\n",
    "root_agent = LlmAgent(\n",
    "    model=\"gemini-2.5-flash-lite\",\n",
    "    name=\"text_chat_bot\",\n",
    "    description=\"A text chatbot with persistent memory\",\n",
    ")\n",
    "\n",
    "# Step 2: Switch to DatabaseSessionService\n",
    "# SQLite database will be created automatically\n",
    "db_url = \"sqlite:///my_agent_data.db\"  # Local SQLite file\n",
    "session_service = DatabaseSessionService(db_url=db_url)\n",
    "\n",
    "# Step 3: Create a new runner with persistent storage\n",
    "runner = Runner(\n",
    "    agent=root_agent,\n",
    "    app_name=APP_NAME,\n",
    "    session_service=session_service\n",
    ")\n",
    "\n",
    "print(\"✅ Upgraded to persistent sessions!\")\n",
    "print(f\"   - Database: my_agent_data.db\")\n",
    "print(f\"   - Sessions will survive restarts!\")"
   ]
  },
  {
   "cell_type": "markdown",
   "id": "ab183299",
   "metadata": {},
   "source": [
    "### Test Run 1: Verifying Persistence\n",
    "\n",
    "In this first test run, we'll start a new conversation with the session ID `test-db-session-01`. We will first introduce our name as 'Sam' and then ask a question. In the second turn, we will ask the agent for our name.\n",
    "\n",
    "Since we are using `DatabaseSessionService`, the agent should remember the name.\n",
    "\n",
    "After the conversation, we'll inspect the `my_agent_data.db` SQLite database directly to see how the conversation `events` (the user queries and model responses) are stored.\n"
   ]
  },
  {
   "cell_type": "code",
   "execution_count": 17,
   "id": "0acbb156",
   "metadata": {
    "lines_to_next_cell": 2
   },
   "outputs": [
    {
     "name": "stdout",
     "output_type": "stream",
     "text": [
      "\n",
      " ### Session: test-db-session-01\n",
      "\n",
      "User > Hi, I am Sam! what is the Capital of United States?\n",
      "gemini-2.5-flash-lite >  Hi Sam! The capital of the United States is Washington, D.C.\n",
      "----\n",
      "\n",
      "User > Hello! what is my name?\n",
      "gemini-2.5-flash-lite >  Your name is Sam.\n",
      "----\n"
     ]
    }
   ],
   "source": [
    "await run_session(runner, [\n",
    "    \"Hi, I am Sam! what is the Capital of United States?\",\n",
    "    \"Hello! what is my name?\"\n",
    "], \"test-db-session-01\")"
   ]
  },
  {
   "cell_type": "markdown",
   "id": "c9cf4a86",
   "metadata": {},
   "source": [
    "### Test Run 2: Resuming a Conversation\n",
    "\n",
    "Now, let's run the session again with the **same session ID** (`test-db-session-01`). This simulates resuming a previous conversation.\n",
    "\n",
    "We will ask a new question and then ask for our name again. Because the session is loaded from the database, the agent should still remember that our name is 'Sam' from the first test run. This demonstrates the power of persistent sessions.\n"
   ]
  },
  {
   "cell_type": "code",
   "execution_count": 18,
   "id": "a459ce88",
   "metadata": {
    "lines_to_next_cell": 2
   },
   "outputs": [
    {
     "name": "stdout",
     "output_type": "stream",
     "text": [
      "\n",
      " ### Session: test-db-session-01\n",
      "\n",
      "User > What is the Capital of India?\n",
      "gemini-2.5-flash-lite >  The capital of India is New Delhi.\n",
      "----\n",
      "\n",
      "User > Hello! what is my name?\n",
      "gemini-2.5-flash-lite >  Your name is Sam.\n",
      "----\n"
     ]
    }
   ],
   "source": [
    "await run_session(runner, [\n",
    "    \"What is the Capital of India?\",\n",
    "    \"Hello! what is my name?\"\n",
    "], \"test-db-session-01\")"
   ]
  },
  {
   "cell_type": "markdown",
   "id": "c125abc7-5459-4956-ab3c-d7cdcc5e6f80",
   "metadata": {},
   "source": [
    "**Expected observation**:  The agent remembered your name from recent conversation where we shared our name in query 01.\n",
    "\n",
    "🎉 **Success!** We have successfully build an Agent with context awareness and ability to persist information."
   ]
  },
  {
   "cell_type": "markdown",
   "id": "4ac16bd2",
   "metadata": {},
   "source": "### Observation: A Deep Dive into Session Management\n\nAs we are using a SQLite DB to store information, let us have a quick peek to see how information is stored."
  },
  {
   "cell_type": "code",
   "execution_count": 19,
   "id": "b703b5ec",
   "metadata": {},
   "outputs": [
    {
     "data": {
      "text/html": [
       "<div>\n",
       "<style scoped>\n",
       "    .dataframe tbody tr th:only-of-type {\n",
       "        vertical-align: middle;\n",
       "    }\n",
       "\n",
       "    .dataframe tbody tr th {\n",
       "        vertical-align: top;\n",
       "    }\n",
       "\n",
       "    .dataframe thead th {\n",
       "        text-align: right;\n",
       "    }\n",
       "</style>\n",
       "<table border=\"1\" class=\"dataframe\">\n",
       "  <thead>\n",
       "    <tr style=\"text-align: right;\">\n",
       "      <th></th>\n",
       "      <th>app_name</th>\n",
       "      <th>session_id</th>\n",
       "      <th>author</th>\n",
       "      <th>content</th>\n",
       "    </tr>\n",
       "  </thead>\n",
       "  <tbody>\n",
       "    <tr>\n",
       "      <th>0</th>\n",
       "      <td>default</td>\n",
       "      <td>test-db-session-01</td>\n",
       "      <td>user</td>\n",
       "      <td>{\"parts\": [{\"text\": \"Hi, I am Sam! what is the Capital of United States?\"}], \"role\": \"user\"}</td>\n",
       "    </tr>\n",
       "    <tr>\n",
       "      <th>1</th>\n",
       "      <td>default</td>\n",
       "      <td>test-db-session-01</td>\n",
       "      <td>text_chat_bot</td>\n",
       "      <td>{\"parts\": [{\"text\": \"Hi Sam! The capital of the United States is Washington, D.C.\"}], \"role\": \"model\"}</td>\n",
       "    </tr>\n",
       "    <tr>\n",
       "      <th>2</th>\n",
       "      <td>default</td>\n",
       "      <td>test-db-session-01</td>\n",
       "      <td>user</td>\n",
       "      <td>{\"parts\": [{\"text\": \"Hello! what is my name?\"}], \"role\": \"user\"}</td>\n",
       "    </tr>\n",
       "    <tr>\n",
       "      <th>3</th>\n",
       "      <td>default</td>\n",
       "      <td>test-db-session-01</td>\n",
       "      <td>text_chat_bot</td>\n",
       "      <td>{\"parts\": [{\"text\": \"Your name is Sam.\"}], \"role\": \"model\"}</td>\n",
       "    </tr>\n",
       "    <tr>\n",
       "      <th>4</th>\n",
       "      <td>default</td>\n",
       "      <td>test-db-session-01</td>\n",
       "      <td>user</td>\n",
       "      <td>{\"parts\": [{\"text\": \"What is the Capital of India?\"}], \"role\": \"user\"}</td>\n",
       "    </tr>\n",
       "    <tr>\n",
       "      <th>5</th>\n",
       "      <td>default</td>\n",
       "      <td>test-db-session-01</td>\n",
       "      <td>text_chat_bot</td>\n",
       "      <td>{\"parts\": [{\"text\": \"The capital of India is New Delhi.\"}], \"role\": \"model\"}</td>\n",
       "    </tr>\n",
       "    <tr>\n",
       "      <th>6</th>\n",
       "      <td>default</td>\n",
       "      <td>test-db-session-01</td>\n",
       "      <td>user</td>\n",
       "      <td>{\"parts\": [{\"text\": \"Hello! what is my name?\"}], \"role\": \"user\"}</td>\n",
       "    </tr>\n",
       "    <tr>\n",
       "      <th>7</th>\n",
       "      <td>default</td>\n",
       "      <td>test-db-session-01</td>\n",
       "      <td>text_chat_bot</td>\n",
       "      <td>{\"parts\": [{\"text\": \"Your name is Sam.\"}], \"role\": \"model\"}</td>\n",
       "    </tr>\n",
       "  </tbody>\n",
       "</table>\n",
       "</div>"
      ],
      "text/plain": [
       "  app_name          session_id         author  \\\n",
       "0  default  test-db-session-01           user   \n",
       "1  default  test-db-session-01  text_chat_bot   \n",
       "2  default  test-db-session-01           user   \n",
       "3  default  test-db-session-01  text_chat_bot   \n",
       "4  default  test-db-session-01           user   \n",
       "5  default  test-db-session-01  text_chat_bot   \n",
       "6  default  test-db-session-01           user   \n",
       "7  default  test-db-session-01  text_chat_bot   \n",
       "\n",
       "                                                                                                  content  \n",
       "0            {\"parts\": [{\"text\": \"Hi, I am Sam! what is the Capital of United States?\"}], \"role\": \"user\"}  \n",
       "1  {\"parts\": [{\"text\": \"Hi Sam! The capital of the United States is Washington, D.C.\"}], \"role\": \"model\"}  \n",
       "2                                        {\"parts\": [{\"text\": \"Hello! what is my name?\"}], \"role\": \"user\"}  \n",
       "3                                             {\"parts\": [{\"text\": \"Your name is Sam.\"}], \"role\": \"model\"}  \n",
       "4                                  {\"parts\": [{\"text\": \"What is the Capital of India?\"}], \"role\": \"user\"}  \n",
       "5                            {\"parts\": [{\"text\": \"The capital of India is New Delhi.\"}], \"role\": \"model\"}  \n",
       "6                                        {\"parts\": [{\"text\": \"Hello! what is my name?\"}], \"role\": \"user\"}  \n",
       "7                                             {\"parts\": [{\"text\": \"Your name is Sam.\"}], \"role\": \"model\"}  "
      ]
     },
     "execution_count": 19,
     "metadata": {},
     "output_type": "execute_result"
    }
   ],
   "source": [
    "import pandas as pd\n",
    "import sqlite3\n",
    "\n",
    "pd.set_option(\"max_colwidth\", None)\n",
    "pd.set_option(\"max_seq_items\", None)\n",
    "\n",
    "\n",
    "\n",
    "def check_data_in_db():\n",
    "    with sqlite3.connect(\"my_agent_data.db\") as connection:\n",
    "        cursor = connection.cursor()\n",
    "        result = cursor.execute(\"select app_name, session_id, author, content from events\")\n",
    "        _column_names = [_[0] for _ in result.description] \n",
    "        _values = list(result.fetchall())\n",
    "        df = pd.DataFrame(_values, columns=_column_names)\n",
    "        return df\n",
    "\n",
    "\n",
    "check_data_in_db()"
   ]
  },
  {
   "cell_type": "markdown",
   "id": "c5be64d9",
   "metadata": {},
   "source": "### Session-to-Session Segregation\n\nAs mentioned earlier, a session is a private conversation between an Agent and a User. i.e. Two sessions do not share information. Let's run our `run_session` with a different session name `test-db-session-02` to confirm this."
  },
  {
   "cell_type": "code",
   "execution_count": 20,
   "id": "709bbcd0",
   "metadata": {
    "lines_to_next_cell": 2
   },
   "outputs": [
    {
     "name": "stdout",
     "output_type": "stream",
     "text": [
      "\n",
      " ### Session: test-db-session-02\n",
      "\n",
      "User > Hello! what is my name?\n",
      "gemini-2.5-flash-lite >  I do not have access to your personal information, including your name. I am a large language model, trained by Google.\n",
      "----\n"
     ]
    }
   ],
   "source": [
    "await run_session(runner, [\n",
    "    \"Hello! what is my name?\"\n",
    "], \"test-db-session-02\")   # Note, we are using new session name"
   ]
  },
  {
   "cell_type": "markdown",
   "id": "efa25997",
   "metadata": {},
   "source": "While isolation of information is good, it can become counterproductive when working with Multiple (Sub) Agents or when working with Multi-Agentic Applications. At the same time, sharing the entire conversation history is ineffective.\n\n<img src=\"adk-agent-sessions.png\" alt=\"drawing\" width=\"800\"/>\n\nIn Google ADK, we use `Session.State` for short term (conversational data) and Memory for long term (past user conversational data) to address this."
  },
  {
   "cell_type": "markdown",
   "id": "d47e652b-f349-4ead-87d2-3a077a129684",
   "metadata": {},
   "source": "## 4. Working with Session State\n\nSo far, we've focused on conversation history (Events). But sessions can also maintain **structured working memory** called Session State. This is like the agent's notepad or scratchpad during a conversation.\n\n### 4.1. Understanding Session State\n\nWithin each Session (our conversation thread), the state attribute acts like the agent's dedicated scratchpad for that specific interaction. While `session.events` holds the full history, `session.state` is where the agent stores and updates **dynamic details** needed during the conversation.\n\n### 4.2. Key Characteristics of State\n\n- (Dictionary) Structure: Conceptually, `session.state` is a collection (dictionary or Map) holding key-value pairs.\n- Mutability: It is automatically managed and updated during conversation history.\n- Persistence: Its persistence is dependent on Session."
  },
  {
   "cell_type": "markdown",
   "id": "c35b0edf",
   "metadata": {},
   "source": [
    "### 4.3. Session State (`output_key`)\n",
    "\n",
    "For a Multi-Agent application, ensuring model responses are stored in session state is crucial. In Google ADK, `output_key` parameter is used for this and it is automatically managed in the session state (session.state).\n",
    "\n",
    "<img src=\"adk-agent-session-state.png\" alt=\"drawing\" width=\"600\"/>"
   ]
  },
  {
   "cell_type": "code",
   "execution_count": null,
   "id": "6b2b20b0",
   "metadata": {},
   "outputs": [],
   "source": "from google.adk.agents import LlmAgent\n\nimage_prompt_agent = LlmAgent(\n    model=\"gemini-2.5-flash-lite\",\n    name=\"image_prompt_generator\",\n    description=\"A text chatbot\",\n    output_key=\"text_chat_bot_output_key\"  # Note: Adding `output_key` \n)\n\nroot_agent = LlmAgent(\n    model=\"gemini-2.5-flash-lite\",\n    name=\"text_chat_bot\",\n    description=\"A text chatbot\",\n    sub_agents=[image_prompt_agent],         # Note: Adding sub-agent\n    output_key=\"text_chat_bot_output_key\"    # Note: Adding `output_key`\n)"
  },
  {
   "cell_type": "markdown",
   "id": "1cb6ec67-28f1-41e9-a9b3-336c061c0748",
   "metadata": {},
   "source": [
    "## 4.4. Hands-on: Building Agents with Session State\n",
    "\n",
    "### Creating Custom Tools for Session State Management\n",
    "\n",
    "Let's explore how to manually manage session state through custom tools. In this example, we'll identify a **transferable characteristic** - the user's name - and build tools to capture and save it.\n",
    "\n",
    "**Why This Example?** \n",
    "The username is a perfect example of information that:\n",
    "- Is introduced once but referenced multiple times\n",
    "- Should persist throughout a conversation\n",
    "- Represents a user-specific characteristic that enhances personalization\n",
    "\n",
    "However, as we'll see, manually creating tools for every piece of information is not scalable...\n",
    "\n",
    "**Key Concepts:**\n",
    "- Tools can access `tool_context.state` to read/write session state\n",
    "- Use descriptive key prefixes (`user:`, `app:`, `temp:`) for organization\n",
    "- State persists across conversation turns within the same session"
   ]
  },
  {
   "cell_type": "code",
   "execution_count": 33,
   "id": "11377918-7ec0-4235-8c54-ad09b6c80ea1",
   "metadata": {},
   "outputs": [],
   "source": [
    "from google.adk.tools.tool_context import ToolContext\n",
    "from typing import Dict, Any\n",
    "\n",
    "# Define scope levels for state keys (following best practices)\n",
    "USER_NAME_SCOPE_LEVELS = ('temp', 'user', 'app')\n",
    "\n",
    "def set_user_name(tool_context: ToolContext, user_name: str) -> Dict[str, Any]:\n",
    "    \"\"\"\n",
    "    Tool to record and save user name in session state.\n",
    "    \n",
    "    This demonstrates how tools can write to session state using tool_context.\n",
    "    The 'user:' prefix indicates this is user-specific data.\n",
    "\n",
    "    Args:\n",
    "        tool_context: The ADK tool context providing access to session state\n",
    "        user_name: The name to store in session state\n",
    "\n",
    "    Returns:\n",
    "        Dictionary containing:\n",
    "        - 'status' (str): 'success' for successful operations\n",
    "        - 'user_name' (str): The username that was stored\n",
    "    \"\"\"\n",
    "    # Write to session state using the 'user:' prefix for user data\n",
    "    tool_context.state[\"user:name\"] = user_name\n",
    "    \n",
    "    # Log the operation for debugging\n",
    "    print(f\"Tool: Updated user name as '{user_name}'\")\n",
    "    \n",
    "    return {\"status\": \"success\", \"user_name\": user_name}\n",
    "\n",
    "def get_user_name(tool_context: ToolContext) -> Dict[str, Any]:\n",
    "    \"\"\"\n",
    "    Tool to retrieve user name from session state.\n",
    "    \n",
    "    This demonstrates how tools can read from session state. If no name\n",
    "    is found, it returns a default message.\n",
    "\n",
    "    Args:\n",
    "        tool_context: The ADK tool context providing access to session state\n",
    "\n",
    "    Returns:\n",
    "        Dictionary containing:\n",
    "        - 'status' (str): 'success' for successful operations\n",
    "        - 'user_name' (str): Username if found, or 'No username is found'\n",
    "    \"\"\"\n",
    "    # Read from session state with a default value\n",
    "    user_name = tool_context.state.get(\"user:name\", \"No username is found\")\n",
    "    \n",
    "    # Log the operation for debugging\n",
    "    print(f\"Tool: Get user name value is '{user_name}'\")\n",
    "    \n",
    "    return {\"status\": \"success\", \"user_name\": user_name}\n",
    "\n",
    "# System instructions to guide the agent on using these tools\n",
    "username_system_instructions = \"\"\"\n",
    "### Tools for managing username\n",
    "* To record username when provided use `set_user_name` tool. \n",
    "* To fetch username when required use `get_user_name` tool.\n",
    "\"\"\"\n",
    "\n",
    "# List of tools to provide to the agent\n",
    "username_tools = [set_user_name, get_user_name]"
   ]
  },
  {
   "cell_type": "markdown",
   "id": "2361a6ad-32d5-4cda-91d4-405263124b3f",
   "metadata": {},
   "source": [
    "### Creating an Agent with Session State Tools\n",
    "\n",
    "Now let's create a new agent that has access to our session state management tools:"
   ]
  },
  {
   "cell_type": "code",
   "execution_count": 34,
   "id": "af41a20a-8883-4a3c-b2d3-b2ce25b3a51c",
   "metadata": {},
   "outputs": [
    {
     "name": "stdout",
     "output_type": "stream",
     "text": [
      "✅ Agent with session state tools initialized!\n"
     ]
    }
   ],
   "source": [
    "from google.adk.agents import LlmAgent\n",
    "\n",
    "# Configuration\n",
    "APP_NAME = 'default'\n",
    "USER_ID = 'default'\n",
    "MODEL_NAME = 'gemini-2.5-flash-lite'\n",
    "\n",
    "# Create an agent with session state tools\n",
    "root_agent = LlmAgent(\n",
    "    model=\"gemini-2.5-flash-lite\",\n",
    "    name=\"text_chat_bot\",\n",
    "    description=\"A text chatbot.\" + username_system_instructions,  # Include tool instructions\n",
    "    tools=username_tools  # Provide the tools to the agent\n",
    ")\n",
    "\n",
    "# Set up session service and runner\n",
    "session_service = InMemorySessionService()\n",
    "runner = Runner(agent=root_agent, session_service=session_service, app_name='default')\n",
    "\n",
    "print(\"✅ Agent with session state tools initialized!\")"
   ]
  },
  {
   "cell_type": "markdown",
   "id": "5c3742eb-3df7-47a3-afaa-415416eef18e",
   "metadata": {},
   "source": [
    "### Testing Session State in Action\n",
    "\n",
    "Let's test how the agent uses session state to remember information across conversation turns:"
   ]
  },
  {
   "cell_type": "code",
   "execution_count": 35,
   "id": "14abfcc3-038b-411e-9e19-15c8e32f93b5",
   "metadata": {},
   "outputs": [
    {
     "name": "stdout",
     "output_type": "stream",
     "text": [
      "\n",
      " ### Session: state-demo-session\n",
      "\n",
      "User > Hi there, how are you doing today? What is my name?\n",
      "gemini-2.5-flash-lite >  Hello! I'm doing well, thank you for asking. I can't recall your name right now, but I can save it if you tell me. \n",
      "\n",
      "----\n",
      "\n",
      "User > My name is Sam\n"
     ]
    },
    {
     "name": "stderr",
     "output_type": "stream",
     "text": [
      "Warning: there are non-text parts in the response: ['function_call'], returning concatenated text result from text parts. Check the full candidates.content.parts accessor to get the full model response.\n"
     ]
    },
    {
     "name": "stdout",
     "output_type": "stream",
     "text": [
      "Tool: Updated user name as 'Sam'\n",
      "gemini-2.5-flash-lite >  \n",
      "It is a pleasure to meet you, Sam! How can I help you today?\n",
      "\n",
      "----\n",
      "\n",
      "User > What is my name?\n"
     ]
    },
    {
     "name": "stderr",
     "output_type": "stream",
     "text": [
      "Warning: there are non-text parts in the response: ['function_call'], returning concatenated text result from text parts. Check the full candidates.content.parts accessor to get the full model response.\n"
     ]
    },
    {
     "name": "stdout",
     "output_type": "stream",
     "text": [
      "Tool: Get user name value is 'Sam'\n",
      "gemini-2.5-flash-lite >  \n",
      "Your name is Sam.\n",
      "----\n"
     ]
    }
   ],
   "source": [
    "# Test conversation demonstrating session state\n",
    "await run_session(runner, [\n",
    "    \"Hi there, how are you doing today? What is my name?\",  # Agent shouldn't know the name yet\n",
    "    \"My name is Sam\",                                        # Provide name - agent should save it\n",
    "    \"What is my name?\"                                       # Agent should recall from session state\n",
    "], \"state-demo-session\")"
   ]
  },
  {
   "cell_type": "markdown",
   "id": "41763b16-f6a1-4534-8e84-304f0c996313",
   "metadata": {},
   "source": [
    "### Inspecting Session State\n",
    "\n",
    "Let's directly inspect the session state to see what's stored:"
   ]
  },
  {
   "cell_type": "code",
   "execution_count": 36,
   "id": "a4dbb11d-077a-4db0-b11a-15ecfcee2114",
   "metadata": {},
   "outputs": [
    {
     "name": "stdout",
     "output_type": "stream",
     "text": [
      "Session State Contents:\n",
      "{'user:name': 'Sam'}\n",
      "\n",
      "🔍 Notice the 'user:name' key storing our data!\n"
     ]
    }
   ],
   "source": [
    "# Retrieve the session and inspect its state\n",
    "session = await session_service.get_session(\n",
    "    app_name=APP_NAME, \n",
    "    user_id=USER_ID, \n",
    "    session_id=\"state-demo-session\"\n",
    ")\n",
    "\n",
    "print(\"Session State Contents:\")\n",
    "print(session.state)\n",
    "print(\"\\n🔍 Notice the 'user:name' key storing our data!\")"
   ]
  },
  {
   "cell_type": "markdown",
   "id": "d6fcb022-4989-41ca-a5cf-78833a95417e",
   "metadata": {},
   "source": [
    "### Verifying Session State Isolation\n",
    "\n",
    "An important characteristic of session state is that it's isolated per session. Let's demonstrate this by starting a new session:"
   ]
  },
  {
   "cell_type": "code",
   "execution_count": 37,
   "id": "c59cfcbc-79e8-4621-9695-20994bf13681",
   "metadata": {},
   "outputs": [
    {
     "name": "stdout",
     "output_type": "stream",
     "text": [
      "\n",
      " ### Session: new-isolated-session\n",
      "\n",
      "User > Hi there, how are you doing today? What is my name?\n",
      "gemini-2.5-flash-lite >  Hello! I'm doing well, thank you for asking. I can't recall your name at the moment. Can you please tell me what it is?\n",
      "----\n"
     ]
    }
   ],
   "source": [
    "# Start a completely new session - the agent won't know our name\n",
    "await run_session(runner, [\n",
    "    \"Hi there, how are you doing today? What is my name?\"\n",
    "], \"new-isolated-session\")\n",
    "\n",
    "# Expected: The agent won't know the name because this is a different session"
   ]
  },
  {
   "cell_type": "markdown",
   "id": "76d7c792-a52e-4196-a8e1-39fd19d2cfa5",
   "metadata": {},
   "source": [
    "### Cross-Session State Sharing (Advanced)\n",
    "\n",
    "While sessions are isolated by default, you might notice something interesting. Let's check the state of our new session(`new-isolated-session`):"
   ]
  },
  {
   "cell_type": "code",
   "execution_count": 38,
   "id": "da4a0d62-4702-4a46-92ad-093ad3c6f76d",
   "metadata": {},
   "outputs": [
    {
     "name": "stdout",
     "output_type": "stream",
     "text": [
      "New Session State:\n",
      "{'user:name': 'Sam'}\n"
     ]
    }
   ],
   "source": [
    "# Check the state of the new session\n",
    "session = await session_service.get_session(\n",
    "    app_name=APP_NAME, \n",
    "    user_id=USER_ID, \n",
    "    session_id=\"new-isolated-session\"\n",
    ")\n",
    "\n",
    "print(\"New Session State:\")\n",
    "print(session.state)\n",
    "\n",
    "# Note: Depending on implementation, you might see shared state here.\n",
    "# This is where the distinction between session-specific and user-specific state becomes important."
   ]
  },
  {
   "cell_type": "markdown",
   "id": "762bbf09-6811-422f-ae5c-8f7117d4cc81",
   "metadata": {},
   "source": [
    "### A More Complex Example\n",
    "\n",
    "Let's test with a more complex name to ensure our tools handle various inputs correctly"
   ]
  },
  {
   "cell_type": "code",
   "execution_count": 39,
   "id": "2acdd00b-3845-449e-a78a-9ee8958404ba",
   "metadata": {},
   "outputs": [
    {
     "name": "stdout",
     "output_type": "stream",
     "text": [
      "\n",
      " ### Session: full-name-session\n",
      "\n",
      "User > Hi there, my name is Sampath. Can you save it in the system?\n"
     ]
    },
    {
     "name": "stderr",
     "output_type": "stream",
     "text": [
      "Warning: there are non-text parts in the response: ['function_call'], returning concatenated text result from text parts. Check the full candidates.content.parts accessor to get the full model response.\n"
     ]
    },
    {
     "name": "stdout",
     "output_type": "stream",
     "text": [
      "Tool: Updated user name as 'Sampath'\n",
      "gemini-2.5-flash-lite >  Great, Sampath! Your name has been saved.\n",
      "----\n"
     ]
    }
   ],
   "source": [
    "# Test with a full name\n",
    "await run_session(runner, [\n",
    "    \"Hi there, my name is Sampath. Can you save it in the system?\"\n",
    "], \"full-name-session\")"
   ]
  },
  {
   "cell_type": "markdown",
   "id": "403d5e28-56be-4938-9e5e-16414ace0aba",
   "metadata": {},
   "source": [
    "Let's test with a another new session `verify-full-name-session`."
   ]
  },
  {
   "cell_type": "code",
   "execution_count": 29,
   "id": "d519cc59-0525-4ad1-9279-79c174669a99",
   "metadata": {},
   "outputs": [
    {
     "name": "stdout",
     "output_type": "stream",
     "text": [
      "\n",
      " ### Session: verify-full-name-session\n",
      "\n",
      "User > Hi there, what is my name?\n"
     ]
    },
    {
     "name": "stderr",
     "output_type": "stream",
     "text": [
      "Warning: there are non-text parts in the response: ['function_call'], returning concatenated text result from text parts. Check the full candidates.content.parts accessor to get the full model response.\n"
     ]
    },
    {
     "name": "stdout",
     "output_type": "stream",
     "text": [
      "Tool: Get user name value is 'Sampath'\n",
      "gemini-2.5-flash-lite >  Hi Sampath, I am a text chat bot. How can I help you today?\n",
      "----\n"
     ]
    }
   ],
   "source": [
    "# Verify the name was saved by asking in a new conversation turn\n",
    "await run_session(runner, [\n",
    "    \"Hi there, what is my name?\"\n",
    "], \"verify-full-name-session\")"
   ]
  },
  {
   "cell_type": "markdown",
   "id": "4ad8b689",
   "metadata": {
    "jp-MarkdownHeadingCollapsed": true
   },
   "source": "### 4.5 Key Takeaways from Session State\n\nThrough these examples, you've learned:\n\n1. **Tool Context Access**: Tools can read and write to `tool_context.state`\n2. **State Persistence**: Data in session state persists across conversation turns\n3. **Key Prefixes**: Use descriptive prefixes (`user:`, `app:`, `temp:`) for organization\n4. **Session Isolation**: Each session maintains its own state (with some nuances)\n5. **Practical Applications**: Session state is perfect for:\n   - User preferences and settings\n   - Temporary calculation results\n   - Context needed across multiple tool calls\n   - Working memory for complex multi-step tasks\n\n### 4.6 The Limitations of Manual State Management\n\nWhile our `username` example demonstrates the power of session state, it also reveals a critical limitation: *The Manual Approach Doesn't Scale!* \n\nInstead of manually creating tools for every piece of information, a Memory system can automatically identify required information, retrieve it and add it to relevant context. It also scales across thousands of characteristics.\n\n## 5. Production Considerations\n\nWhen moving an agent to a production environment, its session management system must evolve from a simple log to a robust, enterprise-grade service. Key considerations fall into three critical areas:\n\n1. **Security and Privacy:** Protecting sensitive information in sessions is **non-negotiable**. Use ACLs (Access Control List) when necessary.\n\n2. **Data Integrity and Lifecycle Management:** Sessions need clear rules for storage and maintenance. Add data retention policies to manage past conversation history.\n\n3. **Performance and Scalability:** An Agentic application needs to be fast and reliable to provide good user performance.\n\n4. **The Need for Automation:** As we've seen with our manual state management example, production systems require automated approaches to handle the complexity of real-world conversations. This is precisely what Memory systems provide - turning the manual process of identifying and storing important information into an automated, intelligent system."
  },
  {
   "cell_type": "markdown",
   "id": "e742eded",
   "metadata": {},
   "source": "## 6. What You've Built\n\n🎉  Congratulations! You've mastered the fundamentals of building stateful AI agents:\n\n- ✅ **Context Engineering** - You understand how to dynamically assemble context for LLMs\n- ✅ **Sessions & Events** - You can maintain conversation history across multiple turns\n- ✅ **Persistent Storage** - You know how to make conversations survive restarts\n- ✅ **Session State** - You can track structured data during conversations\n- ✅ **Production Considerations** - You're ready to handle real-world challenges\n\n### To Recap - Your Journey So Far\n\n1. Started with stateless LLMs that forget everything\n2. Learned about Context Engineering vs Prompt Engineering\n3. Implemented stateful agents with Sessions\n4. Upgraded to persistent storage with databases\n5. Introduction to Session.State.\n6. Key production considerations"
  },
  {
   "cell_type": "markdown",
   "id": "4e577980",
   "metadata": {},
   "source": [
    "## Learn more\n",
    "\n",
    "To learn more about Sessions and State in depth:\n",
    "\n",
    "* https://google.github.io/adk-docs/sessions/session/\n",
    "* https://google.github.io/adk-docs/sessions/state/\n",
    "* https://medium.com/google-cloud/2-minute-adk-manage-context-efficiently-with-artifacts-6fcc6683d274\n",
    "* https://medium.com/google-cloud/2-minute-adk-context-compaction-in-a-snap-470da15c30f4"
   ]
  }
 ],
 "metadata": {
  "jupytext": {
   "cell_metadata_filter": "-all",
   "main_language": "python",
   "notebook_metadata_filter": "-all"
  },
  "kernelspec": {
   "display_name": "Python 3 (ipykernel)",
   "language": "python",
   "name": "python3"
  },
  "language_info": {
   "codemirror_mode": {
    "name": "ipython",
    "version": 3
   },
   "file_extension": ".py",
   "mimetype": "text/x-python",
   "name": "python",
   "nbconvert_exporter": "python",
   "pygments_lexer": "ipython3",
   "version": "3.13.4"
  }
 },
 "nbformat": 4,
 "nbformat_minor": 5
}